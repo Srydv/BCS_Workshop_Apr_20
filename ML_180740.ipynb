{
  "nbformat": 4,
  "nbformat_minor": 0,
  "metadata": {
    "colab": {
      "name": "ML_180740 (1).ipynb",
      "provenance": [],
      "collapsed_sections": [],
      "machine_shape": "hm",
      "include_colab_link": true
    },
    "kernelspec": {
      "name": "python3",
      "display_name": "Python 3"
    }
  },
  "cells": [
    {
      "cell_type": "markdown",
      "metadata": {
        "id": "view-in-github",
        "colab_type": "text"
      },
      "source": [
        "<a href=\"https://colab.research.google.com/github/Srydv/BCS_Workshop_Apr_20/blob/master/ML_180740.ipynb\" target=\"_parent\"><img src=\"https://colab.research.google.com/assets/colab-badge.svg\" alt=\"Open In Colab\"/></a>"
      ]
    },
    {
      "cell_type": "markdown",
      "metadata": {
        "id": "xgTHW1jTc94u",
        "colab_type": "text"
      },
      "source": [
        "<table class=\"tfo-notebook-buttons\" align=\"left\">\n",
        "  <td>\n",
        "    <a target=\"_blank\" href=\"https://colab.research.google.com/github/bcs-iitk/BCS_Workshop_Apr_20/blob/master/Machine_Learning/Assignment/ML.ipynb\"><img src=\"https://www.tensorflow.org/images/colab_logo_32px.png\" />Run in Google Colab</a>\n",
        "  </td>\n",
        "  <td>\n",
        "    <a target=\"_blank\" href=\"https://github.com/bcs-iitk/BCS_Workshop_Apr_20/blob/master/Machine_Learning/Assignment/ML.ipynb\"><img src=\"https://www.tensorflow.org/images/GitHub-Mark-32px.png\" />View source on GitHub</a>\n",
        "  </td>\n",
        "  <td>\n",
        "    <a href=\"https://github.com/bcs-iitk/BCS_Workshop_Apr_20/raw/master/Machine_Learning/Assignment/ML.ipynb\"><img src=\"https://www.tensorflow.org/images/download_logo_32px.png\" />Download notebook</a>\n",
        "  </td>\n",
        "</table>"
      ]
    },
    {
      "cell_type": "code",
      "metadata": {
        "id": "BiU-x0ujcRkE",
        "colab_type": "code",
        "colab": {}
      },
      "source": [
        "# Copyright (c) 2020 Brain and Cognitive Society, IIT Kanpur [ BCS @IITK ]\n",
        "# Copyright under MIT License, must reference https://github.com/bcs-iitk/BCS_Workshop_Apr_20 if used anywhere else.\n",
        "# Author: Shashi Kant (http://shashikg.github.io/)"
      ],
      "execution_count": 0,
      "outputs": []
    },
    {
      "cell_type": "markdown",
      "metadata": {
        "id": "-6GMP27JdNG2",
        "colab_type": "text"
      },
      "source": [
        "\n",
        "\n",
        "> Note: Do not forget to click on **Copy to Drive** in Google Colab to save a copy of this assignment.\n",
        "\n",
        "![copy2drive](https://github.com/bcs-iitk/BCS_Workshop_Apr_20/raw/master/Machine_Learning/Assignment/copy2drive.png)\n",
        "\n"
      ]
    },
    {
      "cell_type": "markdown",
      "metadata": {
        "id": "UWRTh7z2ZmM2",
        "colab_type": "text"
      },
      "source": [
        "# Assignment 1: Machine Learning\n"
      ]
    },
    {
      "cell_type": "markdown",
      "metadata": {
        "id": "UkJr6Lh9aIem",
        "colab_type": "text"
      },
      "source": [
        "## Question 1: Linear Regression\n",
        "To check whether you are able to build simple linear regression model from scratch or not."
      ]
    },
    {
      "cell_type": "code",
      "metadata": {
        "id": "wq1ZliSEuhTw",
        "colab_type": "code",
        "outputId": "ae851349-883a-497b-cbdb-d06a15a10006",
        "colab": {
          "base_uri": "https://localhost:8080/",
          "height": 554
        }
      },
      "source": [
        "import numpy as np\n",
        "import matplotlib.pyplot as plt\n",
        "\n",
        "!wget --no-check-certificate https://github.com/bcs-iitk/BCS_Workshop_Apr_20/raw/master/Machine_Learning/Assignment/X.npy -O X.npy\n",
        "!wget --no-check-certificate https://github.com/bcs-iitk/BCS_Workshop_Apr_20/raw/master/Machine_Learning/Assignment/y.npy -O y.npy"
      ],
      "execution_count": 0,
      "outputs": [
        {
          "output_type": "stream",
          "text": [
            "--2020-04-05 20:29:57--  https://github.com/bcs-iitk/BCS_Workshop_Apr_20/raw/master/Machine_Learning/Assignment/X.npy\n",
            "Resolving github.com (github.com)... 140.82.114.3\n",
            "Connecting to github.com (github.com)|140.82.114.3|:443... connected.\n",
            "HTTP request sent, awaiting response... 302 Found\n",
            "Location: https://raw.githubusercontent.com/bcs-iitk/BCS_Workshop_Apr_20/master/Machine_Learning/Assignment/X.npy [following]\n",
            "--2020-04-05 20:29:57--  https://raw.githubusercontent.com/bcs-iitk/BCS_Workshop_Apr_20/master/Machine_Learning/Assignment/X.npy\n",
            "Resolving raw.githubusercontent.com (raw.githubusercontent.com)... 151.101.0.133, 151.101.64.133, 151.101.128.133, ...\n",
            "Connecting to raw.githubusercontent.com (raw.githubusercontent.com)|151.101.0.133|:443... connected.\n",
            "HTTP request sent, awaiting response... 200 OK\n",
            "Length: 528 [application/octet-stream]\n",
            "Saving to: ‘X.npy’\n",
            "\n",
            "\rX.npy                 0%[                    ]       0  --.-KB/s               \rX.npy               100%[===================>]     528  --.-KB/s    in 0s      \n",
            "\n",
            "2020-04-05 20:29:57 (60.4 MB/s) - ‘X.npy’ saved [528/528]\n",
            "\n",
            "--2020-04-05 20:30:00--  https://github.com/bcs-iitk/BCS_Workshop_Apr_20/raw/master/Machine_Learning/Assignment/y.npy\n",
            "Resolving github.com (github.com)... 140.82.114.3\n",
            "Connecting to github.com (github.com)|140.82.114.3|:443... connected.\n",
            "HTTP request sent, awaiting response... 302 Found\n",
            "Location: https://raw.githubusercontent.com/bcs-iitk/BCS_Workshop_Apr_20/master/Machine_Learning/Assignment/y.npy [following]\n",
            "--2020-04-05 20:30:00--  https://raw.githubusercontent.com/bcs-iitk/BCS_Workshop_Apr_20/master/Machine_Learning/Assignment/y.npy\n",
            "Resolving raw.githubusercontent.com (raw.githubusercontent.com)... 151.101.0.133, 151.101.64.133, 151.101.128.133, ...\n",
            "Connecting to raw.githubusercontent.com (raw.githubusercontent.com)|151.101.0.133|:443... connected.\n",
            "HTTP request sent, awaiting response... 200 OK\n",
            "Length: 528 [application/octet-stream]\n",
            "Saving to: ‘y.npy’\n",
            "\n",
            "y.npy               100%[===================>]     528  --.-KB/s    in 0s      \n",
            "\n",
            "2020-04-05 20:30:00 (92.7 MB/s) - ‘y.npy’ saved [528/528]\n",
            "\n"
          ],
          "name": "stdout"
        }
      ]
    },
    {
      "cell_type": "code",
      "metadata": {
        "id": "021fTYdwTkZm",
        "colab_type": "code",
        "colab": {}
      },
      "source": [
        "def load_data_LR():\n",
        "  # Implement this function to read the dataset using the path declared in path_X and path_y\n",
        "  # should return the X and y data\n",
        "  # use np.load() to load the data google it you will get to know how to do it\n",
        "\n",
        "  path_X = \"X.npy\"\n",
        "  path_y = \"y.npy\"\n",
        "\n",
        "  # Write your code here ----------\n",
        "  X=np.load(path_X)\n",
        "  y=np.load(path_y)\n",
        "\n",
        "  return X, y"
      ],
      "execution_count": 0,
      "outputs": []
    },
    {
      "cell_type": "code",
      "metadata": {
        "id": "Ngg3QUyTfBxC",
        "colab_type": "code",
        "colab": {}
      },
      "source": [
        "def get_linear_model(X, y):\n",
        "  # This shoudl return a proper linear model without bias of type y = XW\n",
        "\n",
        "  # Write your code here ----------\n",
        "  D=X.shape[1]\n",
        "  out_shape=y.shape[1]\n",
        "  # -------------------------------\n",
        "  \n",
        "  W = np.random.randn(D, out_shape)\n",
        "\n",
        "  return W"
      ],
      "execution_count": 0,
      "outputs": []
    },
    {
      "cell_type": "code",
      "metadata": {
        "id": "c52FIGu-hlzM",
        "colab_type": "code",
        "colab": {}
      },
      "source": [
        "def MSE(y, y_pred):\n",
        "  # should return the mean square error between the actual y and predicted y\n",
        "\n",
        "  # Write your code here ----------\n",
        "  #X, y = load_data_LR()\n",
        "  #W = get_linear_model(X, y)\n",
        "  \n",
        "  f = (y_pred-y)**2\n",
        "  errS=sum(f)\n",
        "  error=errS/(2*len(y))\n",
        "\n",
        " # -------------------------------\n",
        "\n",
        "  return error"
      ],
      "execution_count": 0,
      "outputs": []
    },
    {
      "cell_type": "code",
      "metadata": {
        "id": "zrBrqA15hCdT",
        "colab_type": "code",
        "colab": {}
      },
      "source": [
        "def train_by_algebra(X, y):\n",
        "  # should return the trained weight 'W' using the linear algebra method i.e. setting dE/dW = 0\n",
        "\n",
        "  # Write your code here ----------\n",
        "  X, y = load_data_LR()\n",
        "  Xt = np.transpose(X)\n",
        "  XtXinv = np.linalg.pinv(np.matmul(Xt,X))\n",
        "  V = np.matmul(XtXinv,Xt)\n",
        "  W = np.matmul(V,y)\n",
        "  # -------------------------------\n",
        "  return W"
      ],
      "execution_count": 0,
      "outputs": []
    },
    {
      "cell_type": "code",
      "metadata": {
        "id": "kJ_r_R1PixX2",
        "colab_type": "code",
        "colab": {}
      },
      "source": [
        "def train_by_GD(X, y, epochs=5, lr=0.01):\n",
        "  # should return the trained weight 'W' using the gradient descent for number of iterations equals to epochs\n",
        "  # should also return error history int the cariable error_hist.shape = (epochs,); error_hist[i] = mean square error after epoch i-1\n",
        "  # should also print mean square error after each epoch/ iteration\n",
        "  # lr = \"learning rate\" i.e. eta\n",
        "  \n",
        "  # Write your code here ----------\n",
        "  X, y = load_data_LR()\n",
        "  W = get_linear_model(X, y)\n",
        "  y_pred = X*W\n",
        "  error_hist = np.zeros((epochs,))\n",
        "  for i in range(epochs):\n",
        "    \n",
        "    W = W - (lr*sum((y_pred-y)*X))/len(y)\n",
        "    y_pred = X*W\n",
        "    error_hist[i] = sum((y_pred-y)**2)/(2*len(y))\n",
        "    print('MSE after epoch ', i+1,' = ',error_hist[i])\n",
        "  return W, error_hist"
      ],
      "execution_count": 0,
      "outputs": []
    },
    {
      "cell_type": "markdown",
      "metadata": {
        "id": "uLTxFIOgkdjJ",
        "colab_type": "text"
      },
      "source": [
        "### Now write a complete code using the function defined above to learn the model for following cases:"
      ]
    },
    {
      "cell_type": "markdown",
      "metadata": {
        "id": "eYW1AukM378a",
        "colab_type": "text"
      },
      "source": [
        "##### Learn **W** using linear algebra method and prints mean square error between actual y and predicted y. Use `y_pred = XW`. Also plot y_pred and y on different plots."
      ]
    },
    {
      "cell_type": "code",
      "metadata": {
        "id": "AIRs0jB-kOZU",
        "colab_type": "code",
        "outputId": "40d58088-034c-47ce-a845-a50c0837a458",
        "colab": {
          "base_uri": "https://localhost:8080/",
          "height": 590
        }
      },
      "source": [
        "# Write your code here ----------\n",
        "X, y = load_data_LR()\n",
        "W = train_by_algebra(X, y)\n",
        "y_pred = X*W\n",
        "print('Mean Square error:',MSE(y, y_pred))\n",
        "\n",
        "#plt.subplot(1,2,1)\n",
        "plt.plot(X,y_pred,label=\"y_pred\", 'r',X,y, label=\"y\", 'b')\n",
        "plt.title('y vs X')\n",
        "plt.xlabel('X')\n",
        "plt.ylabel('y')\n",
        "plt.show()\n",
        "\n",
        "#plt.subplot(1,2,2)\n",
        "plt.plot(X,y,'b')\n",
        "plt.title('y vs X')\n",
        "plt.xlabel('X')\n",
        "plt.ylabel('y')\n",
        "plt.show()\n",
        "# -------------------------------"
      ],
      "execution_count": 0,
      "outputs": [
        {
          "output_type": "stream",
          "text": [
            "Mean Square error: [2.74502991]\n"
          ],
          "name": "stdout"
        },
        {
          "output_type": "display_data",
          "data": {
            "image/png": "[encoded data removed]",
            "text/plain": [
              "<Figure size 432x288 with 1 Axes>"
            ]
          },
          "metadata": {
            "tags": []
          }
        },
        {
          "output_type": "display_data",
          "data": {
            "image/png": "[encoded data removed]",
            "text/plain": [
              "<Figure size 432x288 with 1 Axes>"
            ]
          },
          "metadata": {
            "tags": []
          }
        }
      ]
    },
    {
      "cell_type": "markdown",
      "metadata": {
        "id": "6kP77_sK4CpT",
        "colab_type": "text"
      },
      "source": [
        "##### Learn **W** using gradient descent method for following learning rates, `lr = [0.01, 0.001, 0.0001]` for **10 epochs**. Plot **MSE vs epochs** for each of them.  Also plot y_pred and y on different plots."
      ]
    },
    {
      "cell_type": "code",
      "metadata": {
        "id": "1bac27RT4G2H",
        "colab_type": "code",
        "outputId": "0827c4a0-9fc2-48a9-f4ad-8f0f6966597e",
        "colab": {
          "base_uri": "https://localhost:8080/",
          "height": 1000
        }
      },
      "source": [
        "temp, tmp = load_data_LR()\n",
        "X = np.zeros((1,50))\n",
        "y = np.zeros((1,50))\n",
        "for i in range(50):\n",
        "  X[0][i] = temp[i][0]\n",
        "  y[0][i] = tmp[i][0]\n",
        "lr = [0.01, 0.001, 0.0001]\n",
        "epochs = 100\n",
        "W = np.zeros((3,1))\n",
        "error_hist = np.zeros((3, epochs))\n",
        "y_pred = np.zeros((3,50))\n",
        "\n",
        "for i in range(3):\n",
        "  temp0, temp1 = train_by_GD(X, y, epochs, lr = lr[i])\n",
        "  error_hist[i] = temp1\n",
        "  W[i] = temp0\n",
        "  y_pred[i] = X*W[i][0]\n",
        "\n",
        "E_count=np.arange(1,epochs+1,1)\n",
        "\n",
        "plt.plot(E_count,error_hist[0], 'r--', E_count,error_hist[1], 'b--', E_count,error_hist[2], 'y--')\n",
        "plt.title('MSE vs Epochs')\n",
        "plt.xlabel('epochs')\n",
        "plt.ylabel('MSE')\n",
        "plt.show()\n",
        "\n",
        "plt.plot(y_pred[0],X[0], 'r--',y_pred[1],X[0], 'b--',y_pred[2],X[0], 'y--',y[0],X[0], 'g')\n",
        "plt.title('y_pred vs X')\n",
        "plt.xlabel('X')\n",
        "plt.ylabel('y_pred')\n",
        "plt.show()\n",
        "\n",
        "plt.plot(y[0],X[0], 'g')\n",
        "plt.title('y vs X')\n",
        "plt.xlabel('X')\n",
        "plt.ylabel('y')\n",
        "plt.show()\n",
        "for i in range(3):\n",
        "  print('W = ', W[i])\n",
        "  "
      ],
      "execution_count": 0,
      "outputs": [
        {
          "output_type": "stream",
          "text": [
            "MSE after epoch  1  =  381.6311145894495\n",
            "MSE after epoch  2  =  322.8419078914936\n",
            "MSE after epoch  3  =  273.1746271864174\n",
            "MSE after epoch  4  =  231.21388454005336\n",
            "MSE after epoch  5  =  195.76390824903316\n",
            "MSE after epoch  6  =  165.81446646662494\n",
            "MSE after epoch  7  =  140.51207823047062\n",
            "MSE after epoch  8  =  119.13569148161552\n",
            "MSE after epoch  9  =  101.0761349618203\n",
            "MSE after epoch  10  =  85.818758421833\n",
            "MSE after epoch  11  =  72.92876643184172\n",
            "MSE after epoch  12  =  62.03882784596628\n",
            "MSE after epoch  13  =  52.83860782284896\n",
            "MSE after epoch  14  =  45.06592409223967\n",
            "MSE after epoch  15  =  38.499275444242606\n",
            "MSE after epoch  16  =  32.95152952265973\n",
            "MSE after epoch  17  =  28.264590041006905\n",
            "MSE after epoch  18  =  24.304891450771503\n",
            "MSE after epoch  19  =  20.959592671709153\n",
            "MSE after epoch  20  =  18.13336141542286\n",
            "MSE after epoch  21  =  15.745657463834872\n",
            "MSE after epoch  22  =  13.728437483075005\n",
            "MSE after epoch  23  =  12.024215965968324\n",
            "MSE after epoch  24  =  10.584427045041936\n",
            "MSE after epoch  25  =  9.368040491994666\n",
            "MSE after epoch  26  =  8.34039246322514\n",
            "MSE after epoch  27  =  7.472197670715917\n",
            "MSE after epoch  28  =  6.738714827720848\n",
            "MSE after epoch  29  =  6.119041586634918\n",
            "MSE after epoch  30  =  5.595518876614925\n",
            "MSE after epoch  31  =  5.153227666127318\n",
            "MSE after epoch  32  =  4.779563809468405\n",
            "MSE after epoch  33  =  4.463878861491981\n",
            "MSE after epoch  34  =  4.1971766247009965\n",
            "MSE after epoch  35  =  3.9718567810870775\n",
            "MSE after epoch  36  =  3.7814983028940867\n",
            "MSE after epoch  37  =  3.6206764700774285\n",
            "MSE after epoch  38  =  3.4848082799341595\n",
            "MSE after epoch  39  =  3.3700218434815143\n",
            "MSE after epoch  40  =  3.2730460467214098\n",
            "MSE after epoch  41  =  3.1911173324247715\n",
            "MSE after epoch  42  =  3.121900945959768\n",
            "MSE after epoch  43  =  3.0634244008753786\n",
            "MSE after epoch  44  =  3.014021268183161\n",
            "MSE after epoch  45  =  2.972283687478232\n",
            "MSE after epoch  46  =  2.937022246590401\n",
            "MSE after epoch  47  =  2.907232086440103\n",
            "MSE after epoch  48  =  2.882064265175972\n",
            "MSE after epoch  49  =  2.8608015655467183\n",
            "MSE after epoch  50  =  2.842838056080438\n",
            "MSE after epoch  51  =  2.827661823618347\n",
            "MSE after epoch  52  =  2.8148403851251764\n",
            "MSE after epoch  53  =  2.8040083630508716\n",
            "MSE after epoch  54  =  2.794857073023564\n",
            "MSE after epoch  55  =  2.7871257271502508\n",
            "MSE after epoch  56  =  2.780594002242125\n",
            "MSE after epoch  57  =  2.7750757611784724\n",
            "MSE after epoch  58  =  2.770413748484294\n",
            "MSE after epoch  59  =  2.766475108959489\n",
            "MSE after epoch  60  =  2.7631476016522436\n",
            "MSE after epoch  61  =  2.7603364012846954\n",
            "MSE after epoch  62  =  2.757961395979885\n",
            "MSE after epoch  63  =  2.7559549042822504\n",
            "MSE after epoch  64  =  2.754259746412696\n",
            "MSE after epoch  65  =  2.7528276147940627\n",
            "MSE after epoch  66  =  2.751617697411186\n",
            "MSE after epoch  67  =  2.750595514774943\n",
            "MSE after epoch  68  =  2.7497319373467417\n",
            "MSE after epoch  69  =  2.7490023554226757\n",
            "MSE after epoch  70  =  2.7483859778211523\n",
            "MSE after epoch  71  =  2.747865239388458\n",
            "MSE after epoch  72  =  2.7474253004377003\n",
            "MSE after epoch  73  =  2.7470536238564454\n",
            "MSE after epoch  74  =  2.746739617831704\n",
            "MSE after epoch  75  =  2.74647433401092\n",
            "MSE after epoch  76  =  2.746250212497233\n",
            "MSE after epoch  77  =  2.746060866412169\n",
            "MSE after epoch  78  =  2.7459008998862475\n",
            "MSE after epoch  79  =  2.745765754290777\n",
            "MSE after epoch  80  =  2.74565157832884\n",
            "MSE after epoch  81  =  2.7455551182833666\n",
            "MSE after epoch  82  =  2.7454736252946987\n",
            "MSE after epoch  83  =  2.7454047770252434\n",
            "MSE after epoch  84  =  2.745346611478929\n",
            "MSE after epoch  85  =  2.7452974710894193\n",
            "MSE after epoch  86  =  2.7452559554838007\n",
            "MSE after epoch  87  =  2.7452208815756207\n",
            "MSE after epoch  88  =  2.745191249849986\n",
            "MSE after epoch  89  =  2.7451662158800176\n",
            "MSE after epoch  90  =  2.745145066262883\n",
            "MSE after epoch  91  =  2.745127198289658\n",
            "MSE after epoch  92  =  2.7451121027697196\n",
            "MSE after epoch  93  =  2.745099349520133\n",
            "MSE after epoch  94  =  2.7450885751065504\n",
            "MSE after epoch  95  =  2.7450794724862915\n",
            "MSE after epoch  96  =  2.7450717822584263\n",
            "MSE after epoch  97  =  2.7450652852715205\n",
            "MSE after epoch  98  =  2.7450597963783974\n",
            "MSE after epoch  99  =  2.745055159159922\n",
            "MSE after epoch  100  =  2.745051241467462\n",
            "MSE after epoch  1  =  416.0249443664728\n",
            "MSE after epoch  2  =  409.3692231108731\n",
            "MSE after epoch  3  =  402.8206898019476\n",
            "MSE after epoch  4  =  396.3776182171771\n",
            "MSE after epoch  5  =  390.03830993422247\n",
            "MSE after epoch  6  =  383.80109388321233\n",
            "MSE after epoch  7  =  377.664325906242\n",
            "MSE after epoch  8  =  371.6263883239662\n",
            "MSE after epoch  9  =  365.68568950917125\n",
            "MSE after epoch  10  =  359.84066346721556\n",
            "MSE after epoch  11  =  354.0897694232259\n",
            "MSE after epoch  12  =  348.43149141594245\n",
            "MSE after epoch  13  =  342.86433789810513\n",
            "MSE after epoch  14  =  337.3868413432748\n",
            "MSE after epoch  15  =  331.99755785898634\n",
            "MSE after epoch  16  =  326.6950668061327\n",
            "MSE after epoch  17  =  321.477970424478\n",
            "MSE after epoch  18  =  316.3448934642016\n",
            "MSE after epoch  19  =  311.29448282337626\n",
            "MSE after epoch  20  =  306.3254071912843\n",
            "MSE after epoch  21  =  301.43635669747846\n",
            "MSE after epoch  22  =  296.6260425664938\n",
            "MSE after epoch  23  =  291.8931967781211\n",
            "MSE after epoch  24  =  287.2365717331507\n",
            "MSE after epoch  25  =  282.6549399245006\n",
            "MSE after epoch  26  =  278.14709361363884\n",
            "MSE after epoch  27  =  273.7118445122198\n",
            "MSE after epoch  28  =  269.34802346884464\n",
            "MSE after epoch  29  =  265.05448016086905\n",
            "MSE after epoch  30  =  260.83008279117183\n",
            "MSE after epoch  31  =  256.67371778980925\n",
            "MSE after epoch  32  =  252.5842895204725\n",
            "MSE after epoch  33  =  248.5607199916732\n",
            "MSE after epoch  34  =  244.60194857257972\n",
            "MSE after epoch  35  =  240.70693171343112\n",
            "MSE after epoch  36  =  236.87464267045144\n",
            "MSE after epoch  37  =  233.10407123519653\n",
            "MSE after epoch  38  =  229.39422346825836\n",
            "MSE after epoch  39  =  225.74412143725797\n",
            "MSE after epoch  40  =  222.152802959058\n",
            "MSE after epoch  41  =  218.61932134612758\n",
            "MSE after epoch  42  =  215.14274515699054\n",
            "MSE after epoch  43  =  211.72215795069394\n",
            "MSE after epoch  44  =  208.35665804522964\n",
            "MSE after epoch  45  =  205.0453582798471\n",
            "MSE after epoch  46  =  201.787385781194\n",
            "MSE after epoch  47  =  198.5818817332227\n",
            "MSE after epoch  48  =  195.42800115080277\n",
            "MSE after epoch  49  =  192.324912656979\n",
            "MSE after epoch  50  =  189.2717982638165\n",
            "MSE after epoch  51  =  186.26785315677597\n",
            "MSE after epoch  52  =  183.3122854825606\n",
            "MSE after epoch  53  =  180.4043161403801\n",
            "MSE after epoch  54  =  177.5431785765764\n",
            "MSE after epoch  55  =  174.72811858255653\n",
            "MSE after epoch  56  =  171.95839409597994\n",
            "MSE after epoch  57  =  169.23327500514762\n",
            "MSE after epoch  58  =  166.55204295654121\n",
            "MSE after epoch  59  =  163.91399116546225\n",
            "MSE after epoch  60  =  161.31842422971997\n",
            "MSE after epoch  61  =  158.76465794632082\n",
            "MSE after epoch  62  =  156.2520191311089\n",
            "MSE after epoch  63  =  153.7798454413123\n",
            "MSE after epoch  64  =  151.3474852009458\n",
            "MSE after epoch  65  =  148.954297229027\n",
            "MSE after epoch  66  =  146.59965067055745\n",
            "MSE after epoch  67  =  144.282924830227\n",
            "MSE after epoch  68  =  142.0035090087954\n",
            "MSE after epoch  69  =  139.76080234210949\n",
            "MSE after epoch  70  =  137.55421364271254\n",
            "MSE after epoch  71  =  135.38316124400484\n",
            "MSE after epoch  72  =  133.24707284691368\n",
            "MSE after epoch  73  =  131.14538536903257\n",
            "MSE after epoch  74  =  129.07754479619055\n",
            "MSE after epoch  75  =  127.04300603641138\n",
            "MSE after epoch  76  =  125.041232776225\n",
            "MSE after epoch  77  =  123.07169733929275\n",
            "MSE after epoch  78  =  121.13388054730962\n",
            "MSE after epoch  79  =  119.22727158314659\n",
            "MSE after epoch  80  =  117.35136785619697\n",
            "MSE after epoch  81  =  115.50567486989108\n",
            "MSE after epoch  82  =  113.68970609134507\n",
            "MSE after epoch  83  =  111.9029828231084\n",
            "MSE after epoch  84  =  110.14503407697724\n",
            "MSE after epoch  85  =  108.41539644983978\n",
            "MSE after epoch  86  =  106.71361400152118\n",
            "MSE after epoch  87  =  105.03923813459569\n",
            "MSE after epoch  88  =  103.39182747613435\n",
            "MSE after epoch  89  =  101.77094776135723\n",
            "MSE after epoch  90  =  100.17617171915897\n",
            "MSE after epoch  91  =  98.60707895947867\n",
            "MSE after epoch  92  =  97.063255862483\n",
            "MSE after epoch  93  =  95.54429546953398\n",
            "MSE after epoch  94  =  94.04979737591317\n",
            "MSE after epoch  95  =  92.57936762527302\n",
            "MSE after epoch  96  =  91.13261860578841\n",
            "MSE after epoch  97  =  89.7091689479802\n",
            "MSE after epoch  98  =  88.30864342418468\n",
            "MSE after epoch  99  =  86.9306728496419\n",
            "MSE after epoch  100  =  85.57489398517686\n",
            "MSE after epoch  1  =  434.77273651152217\n",
            "MSE after epoch  2  =  434.07443011447094\n",
            "MSE after epoch  3  =  433.3772524224005\n",
            "MSE after epoch  4  =  432.6812016109322\n",
            "MSE after epoch  5  =  431.98627585863716\n",
            "MSE after epoch  6  =  431.2924733470296\n",
            "MSE after epoch  7  =  430.599792260564\n",
            "MSE after epoch  8  =  429.90823078662885\n",
            "MSE after epoch  9  =  429.2177871155426\n",
            "MSE after epoch  10  =  428.52845944054854\n",
            "MSE after epoch  11  =  427.84024595781057\n",
            "MSE after epoch  12  =  427.15314486640796\n",
            "MSE after epoch  13  =  426.4671543683315\n",
            "MSE after epoch  14  =  425.7822726684774\n",
            "MSE after epoch  15  =  425.09849797464375\n",
            "MSE after epoch  16  =  424.4158284975253\n",
            "MSE after epoch  17  =  423.73426245070965\n",
            "MSE after epoch  18  =  423.0537980506706\n",
            "MSE after epoch  19  =  422.3744335167661\n",
            "MSE after epoch  20  =  421.69616707123066\n",
            "MSE after epoch  21  =  421.01899693917386\n",
            "MSE after epoch  22  =  420.34292134857344\n",
            "MSE after epoch  23  =  419.66793853027104\n",
            "MSE after epoch  24  =  418.9940467179685\n",
            "MSE after epoch  25  =  418.32124414822187\n",
            "MSE after epoch  26  =  417.64952906043817\n",
            "MSE after epoch  27  =  416.9788996968699\n",
            "MSE after epoch  28  =  416.30935430261076\n",
            "MSE after epoch  29  =  415.6408911255909\n",
            "MSE after epoch  30  =  414.9735084165724\n",
            "MSE after epoch  31  =  414.3072044291449\n",
            "MSE after epoch  32  =  413.6419774197205\n",
            "MSE after epoch  33  =  412.97782564753\n",
            "MSE after epoch  34  =  412.31474737461764\n",
            "MSE after epoch  35  =  411.6527408658365\n",
            "MSE after epoch  36  =  410.99180438884497\n",
            "MSE after epoch  37  =  410.33193621410084\n",
            "MSE after epoch  38  =  409.6731346148579\n",
            "MSE after epoch  39  =  409.01539786716035\n",
            "MSE after epoch  40  =  408.3587242498395\n",
            "MSE after epoch  41  =  407.7031120445088\n",
            "MSE after epoch  42  =  407.04855953555847\n",
            "MSE after epoch  43  =  406.39506501015245\n",
            "MSE after epoch  44  =  405.7426267582226\n",
            "MSE after epoch  45  =  405.0912430724655\n",
            "MSE after epoch  46  =  404.4409122483367\n",
            "MSE after epoch  47  =  403.7916325840474\n",
            "MSE after epoch  48  =  403.14340238055905\n",
            "MSE after epoch  49  =  402.49621994157974\n",
            "MSE after epoch  50  =  401.85008357355895\n",
            "MSE after epoch  51  =  401.20499158568396\n",
            "MSE after epoch  52  =  400.56094228987456\n",
            "MSE after epoch  53  =  399.91793400077944\n",
            "MSE after epoch  54  =  399.275965035771\n",
            "MSE after epoch  55  =  398.63503371494176\n",
            "MSE after epoch  56  =  397.99513836109907\n",
            "MSE after epoch  57  =  397.356277299762\n",
            "MSE after epoch  58  =  396.71844885915505\n",
            "MSE after epoch  59  =  396.08165137020615\n",
            "MSE after epoch  60  =  395.4458831665398\n",
            "MSE after epoch  61  =  394.81114258447485\n",
            "MSE after epoch  62  =  394.17742796301883\n",
            "MSE after epoch  63  =  393.544737643864\n",
            "MSE after epoch  64  =  392.91306997138304\n",
            "MSE after epoch  65  =  392.28242329262486\n",
            "MSE after epoch  66  =  391.65279595731016\n",
            "MSE after epoch  67  =  391.02418631782666\n",
            "MSE after epoch  68  =  390.3965927292256\n",
            "MSE after epoch  69  =  389.7700135492167\n",
            "MSE after epoch  70  =  389.14444713816425\n",
            "MSE after epoch  71  =  388.51989185908343\n",
            "MSE after epoch  72  =  387.89634607763435\n",
            "MSE after epoch  73  =  387.2738081621192\n",
            "MSE after epoch  74  =  386.65227648347764\n",
            "MSE after epoch  75  =  386.03174941528255\n",
            "MSE after epoch  76  =  385.41222533373525\n",
            "MSE after epoch  77  =  384.79370261766235\n",
            "MSE after epoch  78  =  384.1761796485101\n",
            "MSE after epoch  79  =  383.5596548103413\n",
            "MSE after epoch  80  =  382.9441264898307\n",
            "MSE after epoch  81  =  382.32959307626066\n",
            "MSE after epoch  82  =  381.7160529615166\n",
            "MSE after epoch  83  =  381.1035045400841\n",
            "MSE after epoch  84  =  380.4919462090433\n",
            "MSE after epoch  85  =  379.88137636806493\n",
            "MSE after epoch  86  =  379.27179341940683\n",
            "MSE after epoch  87  =  378.6631957679095\n",
            "MSE after epoch  88  =  378.05558182099105\n",
            "MSE after epoch  89  =  377.44894998864436\n",
            "MSE after epoch  90  =  376.84329868343224\n",
            "MSE after epoch  91  =  376.23862632048326\n",
            "MSE after epoch  92  =  375.6349313174875\n",
            "MSE after epoch  93  =  375.03221209469297\n",
            "MSE after epoch  94  =  374.4304670749009\n",
            "MSE after epoch  95  =  373.8296946834618\n",
            "MSE after epoch  96  =  373.2298933482713\n",
            "MSE after epoch  97  =  372.6310614997664\n",
            "MSE after epoch  98  =  372.03319757092083\n",
            "MSE after epoch  99  =  371.4362999972411\n",
            "MSE after epoch  100  =  370.8403672167626\n"
          ],
          "name": "stdout"
        },
        {
          "output_type": "display_data",
          "data": {
            "image/png": "[encoded data removed]",
            "text/plain": [
              "<Figure size 432x288 with 1 Axes>"
            ]
          },
          "metadata": {
            "tags": []
          }
        },
        {
          "output_type": "display_data",
          "data": {
            "image/png": "[encoded data removed]",
            "text/plain": [
              "<Figure size 432x288 with 1 Axes>"
            ]
          },
          "metadata": {
            "tags": []
          }
        },
        {
          "output_type": "display_data",
          "data": {
            "image/png": "[encoded data removed]",
            "text/plain": [
              "<Figure size 432x288 with 1 Axes>"
            ]
          },
          "metadata": {
            "tags": []
          }
        },
        {
          "output_type": "stream",
          "text": [
            "W =  [9.9839087]\n",
            "W =  [5.45964395]\n",
            "W =  [0.44386016]\n"
          ],
          "name": "stdout"
        }
      ]
    },
    {
      "cell_type": "markdown",
      "metadata": {
        "id": "4zJO-LIvn6sD",
        "colab_type": "text"
      },
      "source": [
        "## Question 2: Image Classification in Tensorflow using Deep Learning\n",
        "To check whether you are able to build a given neural network model in tensorflow or not. First we will build a fully connected NN model second we will build a CNN model."
      ]
    },
    {
      "cell_type": "code",
      "metadata": {
        "id": "7mynGfqRn24b",
        "colab_type": "code",
        "colab": {}
      },
      "source": [
        "import numpy as np\n",
        "%tensorflow_version 1.x\n",
        "import tensorflow as tf\n",
        "import matplotlib.pyplot as plt\n",
        "from tensorflow.python.keras.layers import Dense, Flatten, Dropout\n",
        "from tensorflow.python.keras import Sequential"
      ],
      "execution_count": 0,
      "outputs": []
    },
    {
      "cell_type": "code",
      "metadata": {
        "id": "s8WKt-qY4agV",
        "colab_type": "code",
        "colab": {}
      },
      "source": [
        "def plot_history(history):\n",
        "  # function to plot accuracy vs epoch\n",
        "\n",
        "  plt.plot(history.history['acc'], label='acc')\n",
        "  plt.plot(history.history['val_acc'], label = 'val_acc')\n",
        "  plt.xlabel('Epoch')\n",
        "  plt.ylabel('Accuracy')\n",
        "  plt.legend(loc='lower right')"
      ],
      "execution_count": 0,
      "outputs": []
    },
    {
      "cell_type": "code",
      "metadata": {
        "id": "tCT9Kmhhn5I_",
        "colab_type": "code",
        "colab": {}
      },
      "source": [
        "def load_data_cifar10_norm():\n",
        "  # should return the normalised cifar10 dataset by loading it from tensorflow\n",
        "  # link: https://www.tensorflow.org/api_docs/python/tf/keras/datasets/cifar10/\n",
        "\n",
        "  # Write your code here ----------\n",
        "  (x_train,y_train), (x_test,y_test) = tf.keras.datasets.cifar10.load_data()\n",
        "\n",
        "  x_train, x_test = x_train/255, x_test/255\n",
        "  \n",
        "  from keras.utils import to_categorical\n",
        "  y_train = to_categorical(y_train)\n",
        "  y_test = to_categorical(y_test)\n",
        "  # -------------------------------\n",
        "\n",
        "  return x_train, y_train, x_test, y_test"
      ],
      "execution_count": 0,
      "outputs": []
    },
    {
      "cell_type": "markdown",
      "metadata": {
        "id": "LDpHSTRPvS9t",
        "colab_type": "text"
      },
      "source": [
        "### Define a fully connected neural network model with following attributes:\n",
        "\n",
        "*   Total number of **hidden layers = 4**, all with **relu** activation\n",
        "*   Number of neurons in **first hidden layer = 7200**\n",
        "*   Number of neurons in **second hidden layer = 2304**\n",
        "*   Number of neurons in **third hidden layer = 1024**\n",
        "*   Number of neurons in **fourth hidden layer = 64**\n"
      ]
    },
    {
      "cell_type": "code",
      "metadata": {
        "id": "VYYQzIWnqU3t",
        "colab_type": "code",
        "colab": {}
      },
      "source": [
        "def build_fc_model(input_shape=(32, 32, 3), num_class=10):\n",
        "  # should return a sequential model defined based on the above attributes\n",
        "  # do not compile the model\n",
        "\n",
        "  # Write your code here ----------\n",
        "  \n",
        "  model = Sequential()\n",
        "  model.add(Flatten())\n",
        "  model.add(Dense(7200, activation='relu', input_shape=input_shape))\n",
        "  model.add(Dense(2304, activation='relu'))\n",
        "  model.add(Dense(1024, activation='relu'))\n",
        "  model.add(Dense(64, activation='relu'))\n",
        "  model.add(Dropout(0.3))\n",
        "  model.add(Dense(num_class, activation='softmax'))\n",
        "  return model"
      ],
      "execution_count": 0,
      "outputs": []
    },
    {
      "cell_type": "markdown",
      "metadata": {
        "id": "pdcQ2yqz1RYH",
        "colab_type": "text"
      },
      "source": [
        "### Define a CNN model with following attribute:\n",
        "\n",
        "*   Total number of **hidden layer = 4**\n",
        "*   After every convolutional layer there must be a MaxPoolingLayer of size (2, 2)\n",
        "*   Total number of convolutional layer = 3, all with **relu** activation.\n",
        "    *    Number of filters in **first convolutional layer = 32**\n",
        "    *    Number of filters in **second convolutional layer = 64**\n",
        "    *    Number of filters in **third convolutional layer = 64**\n",
        "*   After all convolutional layer flatten the output and use **dense layer of 64 neurons**\n",
        "\n"
      ]
    },
    {
      "cell_type": "code",
      "metadata": {
        "id": "T00AYU3D3L1j",
        "colab_type": "code",
        "colab": {}
      },
      "source": [
        "def build_cnn_model(input_shape=(32, 32, 3), num_class=10):\n",
        "  # should return a sequential model defined based on the above attributes\n",
        "  # do not compile the model\n",
        "\n",
        "  # Write your code here ----------\n",
        "  from tensorflow.python.keras.models import Sequential\n",
        "  from tensorflow.python.keras.layers import Dense, Conv2D, Flatten, MaxPooling2D\n",
        "  model = Sequential()\n",
        "\n",
        "  model.add(Conv2D(32, kernel_size=2, activation='relu', input_shape = input_shape))\n",
        "  model.add(MaxPooling2D())\n",
        "  model.add(Conv2D(64, kernel_size=2, activation='relu'))\n",
        "  model.add(MaxPooling2D())\n",
        "  model.add(Conv2D(64, kernel_size=2, activation='relu'))\n",
        "  model.add(MaxPooling2D())\n",
        "  model.add(Flatten())\n",
        "  model.add(Dense(64, activation='relu'))\n",
        "  model.add(Dense(num_class, activation = 'softmax'))\n",
        "  # -------------------------------\n",
        "\n",
        "  return model"
      ],
      "execution_count": 0,
      "outputs": []
    },
    {
      "cell_type": "markdown",
      "metadata": {
        "id": "7SXXUeRp4Urq",
        "colab_type": "text"
      },
      "source": [
        "### Compile and train the fully connected neural network model using the above functions."
      ]
    },
    {
      "cell_type": "code",
      "metadata": {
        "id": "61_XiEUR3eV0",
        "colab_type": "code",
        "outputId": "878e19be-2484-4fdf-e4ac-718489f0b0d4",
        "colab": {
          "base_uri": "https://localhost:8080/",
          "height": 1000
        }
      },
      "source": [
        "# Write your code here ----------\n",
        "model = build_fc_model(input_shape=(32, 32, 3), num_class=10)\n",
        "model.compile(optimizer=tf.keras.optimizers.Adam(lr=0.0001), loss='categorical_crossentropy', metrics=['accuracy'])\n",
        "# -------------------------------\n",
        "x_train, y_train, x_test, y_test = load_data_cifar10_norm()\n",
        "\n",
        "history = model.fit(x_train, y_train, batch_size=512, epochs=10, validation_data=(x_test, y_test))\n",
        "\n",
        "plot_history(history)\n",
        "model.summary()"
      ],
      "execution_count": 25,
      "outputs": [
        {
          "output_type": "stream",
          "text": [
            "Train on 50000 samples, validate on 10000 samples\n",
            "Epoch 1/10\n",
            "50000/50000 [==============================] - 76s 2ms/sample - loss: 2.0725 - acc: 0.2420 - val_loss: 1.8782 - val_acc: 0.3423\n",
            "Epoch 2/10\n",
            "50000/50000 [==============================] - 75s 2ms/sample - loss: 1.8928 - acc: 0.3227 - val_loss: 1.7455 - val_acc: 0.3963\n",
            "Epoch 3/10\n",
            "50000/50000 [==============================] - 76s 2ms/sample - loss: 1.7775 - acc: 0.3728 - val_loss: 1.6368 - val_acc: 0.4302\n",
            "Epoch 4/10\n",
            "50000/50000 [==============================] - 75s 2ms/sample - loss: 1.6837 - acc: 0.4087 - val_loss: 1.5877 - val_acc: 0.4415\n",
            "Epoch 5/10\n",
            "50000/50000 [==============================] - 75s 2ms/sample - loss: 1.6344 - acc: 0.4265 - val_loss: 1.5610 - val_acc: 0.4538\n",
            "Epoch 6/10\n",
            "50000/50000 [==============================] - 77s 2ms/sample - loss: 1.5716 - acc: 0.4506 - val_loss: 1.4950 - val_acc: 0.4734\n",
            "Epoch 7/10\n",
            "50000/50000 [==============================] - 76s 2ms/sample - loss: 1.5330 - acc: 0.4646 - val_loss: 1.4547 - val_acc: 0.4894\n",
            "Epoch 8/10\n",
            "50000/50000 [==============================] - 76s 2ms/sample - loss: 1.4915 - acc: 0.4803 - val_loss: 1.4493 - val_acc: 0.4854\n",
            "Epoch 9/10\n",
            "50000/50000 [==============================] - 76s 2ms/sample - loss: 1.4443 - acc: 0.4939 - val_loss: 1.4236 - val_acc: 0.4949\n",
            "Epoch 10/10\n",
            "50000/50000 [==============================] - 75s 2ms/sample - loss: 1.4068 - acc: 0.5104 - val_loss: 1.3767 - val_acc: 0.5192\n",
            "Model: \"sequential_9\"\n",
            "_________________________________________________________________\n",
            "Layer (type)                 Output Shape              Param #   \n",
            "=================================================================\n",
            "flatten_9 (Flatten)          multiple                  0         \n",
            "_________________________________________________________________\n",
            "dense_44 (Dense)             multiple                  22125600  \n",
            "_________________________________________________________________\n",
            "dense_45 (Dense)             multiple                  16591104  \n",
            "_________________________________________________________________\n",
            "dense_46 (Dense)             multiple                  2360320   \n",
            "_________________________________________________________________\n",
            "dense_47 (Dense)             multiple                  65600     \n",
            "_________________________________________________________________\n",
            "dropout_3 (Dropout)          multiple                  0         \n",
            "_________________________________________________________________\n",
            "dense_48 (Dense)             multiple                  650       \n",
            "=================================================================\n",
            "Total params: 41,143,274\n",
            "Trainable params: 41,143,274\n",
            "Non-trainable params: 0\n",
            "_________________________________________________________________\n"
          ],
          "name": "stdout"
        },
        {
          "output_type": "display_data",
          "data": {
            "image/png": "[encoded data removed]",
            "text/plain": [
              "<Figure size 432x288 with 1 Axes>"
            ]
          },
          "metadata": {
            "tags": []
          }
        }
      ]
    },
    {
      "cell_type": "markdown",
      "metadata": {
        "id": "Z_yHXGc47ENb",
        "colab_type": "text"
      },
      "source": [
        "### Compile and train the CNN model using the above functions."
      ]
    },
    {
      "cell_type": "code",
      "metadata": {
        "id": "aM9rueu97Gnq",
        "colab_type": "code",
        "outputId": "93865b40-7087-4b74-99cd-e8e082c78384",
        "colab": {
          "base_uri": "https://localhost:8080/",
          "height": 1000
        }
      },
      "source": [
        "# Write your code here ----------\n",
        "model = build_cnn_model(input_shape=(32, 32, 3), num_class=10)\n",
        "model.compile(optimizer='adam', loss='categorical_crossentropy', metrics=['accuracy'])\n",
        "# -------------------------------\n",
        "x_train, y_train, x_test, y_test = load_data_cifar10_norm()\n",
        "history = model.fit(x_train, y_train, epochs=10, batch_size=512, validation_data=(x_test, y_test))\n",
        "\n",
        "plot_history(history)\n",
        "model.summary()"
      ],
      "execution_count": 0,
      "outputs": [
        {
          "output_type": "stream",
          "text": [
            "Train on 50000 samples, validate on 10000 samples\n",
            "Epoch 1/10\n",
            "50000/50000 [==============================] - 24s 470us/sample - loss: 4.4714 - acc: 0.2106 - val_loss: 1.8247 - val_acc: 0.3295\n",
            "Epoch 2/10\n",
            "50000/50000 [==============================] - 23s 469us/sample - loss: 1.6832 - acc: 0.3861 - val_loss: 1.5674 - val_acc: 0.4356\n",
            "Epoch 3/10\n",
            "50000/50000 [==============================] - 23s 468us/sample - loss: 1.5043 - acc: 0.4600 - val_loss: 1.4427 - val_acc: 0.4863\n",
            "Epoch 4/10\n",
            "50000/50000 [==============================] - 24s 473us/sample - loss: 1.4053 - acc: 0.4955 - val_loss: 1.3825 - val_acc: 0.5114\n",
            "Epoch 5/10\n",
            "50000/50000 [==============================] - 23s 470us/sample - loss: 1.2968 - acc: 0.5372 - val_loss: 1.3319 - val_acc: 0.5279\n",
            "Epoch 6/10\n",
            "50000/50000 [==============================] - 24s 473us/sample - loss: 1.2244 - acc: 0.5674 - val_loss: 1.2604 - val_acc: 0.5502\n",
            "Epoch 7/10\n",
            "50000/50000 [==============================] - 24s 477us/sample - loss: 1.1502 - acc: 0.5954 - val_loss: 1.2003 - val_acc: 0.5783\n",
            "Epoch 8/10\n",
            "50000/50000 [==============================] - 24s 477us/sample - loss: 1.0981 - acc: 0.6135 - val_loss: 1.1909 - val_acc: 0.5865\n",
            "Epoch 9/10\n",
            "50000/50000 [==============================] - 24s 473us/sample - loss: 1.0491 - acc: 0.6337 - val_loss: 1.1240 - val_acc: 0.6086\n",
            "Epoch 10/10\n",
            "50000/50000 [==============================] - 24s 473us/sample - loss: 0.9975 - acc: 0.6508 - val_loss: 1.1199 - val_acc: 0.6107\n",
            "Model: \"sequential_7\"\n",
            "_________________________________________________________________\n",
            "Layer (type)                 Output Shape              Param #   \n",
            "=================================================================\n",
            "conv2d_3 (Conv2D)            (None, 31, 31, 32)        416       \n",
            "_________________________________________________________________\n",
            "max_pooling2d_3 (MaxPooling2 (None, 15, 15, 32)        0         \n",
            "_________________________________________________________________\n",
            "conv2d_4 (Conv2D)            (None, 14, 14, 64)        8256      \n",
            "_________________________________________________________________\n",
            "max_pooling2d_4 (MaxPooling2 (None, 7, 7, 64)          0         \n",
            "_________________________________________________________________\n",
            "conv2d_5 (Conv2D)            (None, 6, 6, 64)          16448     \n",
            "_________________________________________________________________\n",
            "max_pooling2d_5 (MaxPooling2 (None, 3, 3, 64)          0         \n",
            "_________________________________________________________________\n",
            "flatten_7 (Flatten)          (None, 576)               0         \n",
            "_________________________________________________________________\n",
            "dense_32 (Dense)             (None, 64)                36928     \n",
            "_________________________________________________________________\n",
            "dense_33 (Dense)             (None, 10)                650       \n",
            "=================================================================\n",
            "Total params: 62,698\n",
            "Trainable params: 62,698\n",
            "Non-trainable params: 0\n",
            "_________________________________________________________________\n"
          ],
          "name": "stdout"
        },
        {
          "output_type": "display_data",
          "data": {
            "image/png": "[encoded data removed]",
            "text/plain": [
              "<Figure size 432x288 with 1 Axes>"
            ]
          },
          "metadata": {
            "tags": []
          }
        }
      ]
    },
    {
      "cell_type": "markdown",
      "metadata": {
        "id": "nKwrtPcy750Q",
        "colab_type": "text"
      },
      "source": [
        "### What do you observe? Compare both the model by looking at their Accuracy vs Epoch plot and total numbers of trainable parameters."
      ]
    },
    {
      "cell_type": "code",
      "metadata": {
        "id": "Q2lFRCoL8N_b",
        "colab_type": "code",
        "colab": {
          "base_uri": "https://localhost:8080/",
          "height": 54
        },
        "outputId": "cbd65706-02b9-43d0-b051-86fc9a90a260"
      },
      "source": [
        "print(\"Even though training parameters in FC NN is more than CNN accuracy in CNN is more. Also, the FCNN is overfit and the validation accuracy is diverted from the Testing accracy  \")"
      ],
      "execution_count": 27,
      "outputs": [
        {
          "output_type": "stream",
          "text": [
            "Even though training parameters in FC NN is more than CNN accuracy in CNN is more. Also, the FCNN is overfit and the validation accuracy is diverted from the Testing accracy  \n"
          ],
          "name": "stdout"
        }
      ]
    },
    {
      "cell_type": "markdown",
      "metadata": {
        "id": "NlX1GE9f84dN",
        "colab_type": "text"
      },
      "source": [
        "## Question 3: Image Classification in Tensorflow using Transfer Learning\n",
        "In this we will again try to learn a classification model for **cifar10** but by using the concept of transfer learning. "
      ]
    },
    {
      "cell_type": "markdown",
      "metadata": {
        "id": "TMQs8VAJaiZc",
        "colab_type": "text"
      },
      "source": [
        "### Brief description on Transfer Learning:"
      ]
    },
    {
      "cell_type": "markdown",
      "metadata": {
        "id": "velsoC8-KP6B",
        "colab_type": "text"
      },
      "source": [
        "The idea behind transfer learning for image classification is that when you train a model on a very large image dataset like ImageNet, then this model can effectivly serve as generic model of visual world. If you remember, a closer look at every CNN model gives you an idea that every CNN model used to have some sets of convolutional layers followed by a dense layer and finally at last a classification (output) layer. So, here the convolutional layer somewhat act as feature mapping function which maps the input image to an different dimensional space. And finally at the end you apply dense layer to classify the images based on those extracted features. <br>\n",
        "\n",
        "**Inshort this what you do in a CNN model:**\n",
        "![](https://github.com/bcs-iitk/BCS_Workshop_Apr_20/raw/master/Machine_Learning/Assignment/cnn_model.png)\n",
        "\n",
        "So what we will do in transfer learning is that we will use some already pre-trained model which are trained on ImageNet dataset. Will only use its learned convolutional layers as a feature mapping function. And finally will learn a fully connected neural network on those features to classify the images.\n"
      ]
    },
    {
      "cell_type": "markdown",
      "metadata": {
        "id": "203W4I0oMs5v",
        "colab_type": "text"
      },
      "source": [
        "### Attributes of Transfer Learning model to be build\n",
        "\n",
        "*   Pre-trained weights of VGG16 will be used as feature extracter\n",
        "*   After this flatten the output and use dense layer of **64 neurons**\n",
        "\n"
      ]
    },
    {
      "cell_type": "code",
      "metadata": {
        "id": "COUcSjSz9DtQ",
        "colab_type": "code",
        "colab": {}
      },
      "source": [
        "import numpy as np\n",
        "import tensorflow as tf\n",
        "%tensorflow_version 1.x\n",
        "import matplotlib.pyplot as plt\n",
        "from tensorflow.keras.applications.vgg16 import preprocess_input, VGG16"
      ],
      "execution_count": 0,
      "outputs": []
    },
    {
      "cell_type": "code",
      "metadata": {
        "id": "ylCRV_niMhxA",
        "colab_type": "code",
        "colab": {}
      },
      "source": [
        "def plot_history(history):\n",
        "  # function to plot accuracy vs epoch\n",
        "\n",
        "  plt.plot(history.history['acc'], label='acc')\n",
        "  plt.plot(history.history['val_acc'], label = 'val_acc')\n",
        "  plt.xlabel('Epoch')\n",
        "  plt.ylabel('Accuracy')\n",
        "  plt.legend(loc='lower right')"
      ],
      "execution_count": 0,
      "outputs": []
    },
    {
      "cell_type": "code",
      "metadata": {
        "id": "ijdwptetMmSL",
        "colab_type": "code",
        "colab": {}
      },
      "source": [
        "def load_data_cifar10():\n",
        "  # should return the normalised cifar10 dataset by loading it from tensorflow\n",
        "  # link: https://www.tensorflow.org/api_docs/python/tf/keras/datasets/cifar10/\n",
        "\n",
        "  # Write your code here ----------\n",
        "  (x_train,y_train), (x_test,y_test) = tf.keras.datasets.cifar10.load_data()\n",
        "\n",
        "  from keras.utils import to_categorical\n",
        "  y_train = to_categorical(y_train)\n",
        "  y_test = to_categorical(y_test)\n",
        "\n",
        "  \n",
        "  # -------------------------------\n",
        "\n",
        "  return preprocess_input(x_train), y_train, preprocess_input(x_test), y_test"
      ],
      "execution_count": 0,
      "outputs": []
    },
    {
      "cell_type": "code",
      "metadata": {
        "id": "8kgkpJfwKhlR",
        "colab_type": "code",
        "colab": {}
      },
      "source": [
        "def build_tl_model(num_class=10):\n",
        "  # should return the ccombined model using the VGG16 conv layers as conv layers\n",
        "  # and for fully connected layer part use the above attributes.\n",
        "\n",
        "  base_model = VGG16(input_shape=(32, 32, 3), include_top=False, weights='imagenet') # this is the conv layers from VGG16\n",
        "  base_model.trainable = False # this ensures that while training the dense layers these weights don't get changed\n",
        "\n",
        "  from tensorflow.python.keras.layers import Dense, Flatten\n",
        "\n",
        "  model = tf.keras.models.Sequential()\n",
        "    # Feature extractor \n",
        "  model.add(base_model)\n",
        "\n",
        "    # Flatten and use the attribute given the question to build the dense part\n",
        "    # Write your code here ----------\n",
        "  model.add(Flatten())\n",
        "  model.add(Dense(64, activation='relu'))\n",
        "  model.add(Dense(num_class, activation = 'softmax'))\n",
        "    # -------------------------------\n",
        "  \n",
        "\n",
        "  return model"
      ],
      "execution_count": 0,
      "outputs": []
    },
    {
      "cell_type": "markdown",
      "metadata": {
        "id": "_-2kUilyPNJJ",
        "colab_type": "text"
      },
      "source": [
        "### Compile and train the model using above functions, use adam optimiser with learning rate = 0.0001"
      ]
    },
    {
      "cell_type": "code",
      "metadata": {
        "id": "6FzIIP7GPMOt",
        "colab_type": "code",
        "outputId": "4170d97c-ad97-44dd-c784-dca36610296f",
        "colab": {
          "base_uri": "https://localhost:8080/",
          "height": 921
        }
      },
      "source": [
        "# Write your code here ----------\n",
        "opt = tf.keras.optimizers.Adam(lr=0.0001)\n",
        "model = build_tl_model(num_class=10)\n",
        "model.compile(optimizer=opt, loss='categorical_crossentropy', metrics=['accuracy'])\n",
        "x_train, y_train, x_test, y_test = load_data_cifar10()\n",
        "# -------------------------------\n",
        "\n",
        "history = model.fit(x_train, y_train, epochs=10, batch_size=512, validation_data=(x_test, y_test))\n",
        "\n",
        "plot_history(history)\n",
        "model.summary()"
      ],
      "execution_count": 37,
      "outputs": [
        {
          "output_type": "stream",
          "text": [
            "Train on 50000 samples, validate on 10000 samples\n",
            "Epoch 1/10\n",
            "50000/50000 [==============================] - 199s 4ms/sample - loss: 11.4595 - acc: 0.1567 - val_loss: 7.5541 - val_acc: 0.2291\n",
            "Epoch 2/10\n",
            "50000/50000 [==============================] - 201s 4ms/sample - loss: 5.8963 - acc: 0.2928 - val_loss: 4.9582 - val_acc: 0.3368\n",
            "Epoch 3/10\n",
            "50000/50000 [==============================] - 199s 4ms/sample - loss: 4.2308 - acc: 0.3678 - val_loss: 3.8813 - val_acc: 0.3857\n",
            "Epoch 4/10\n",
            "50000/50000 [==============================] - 199s 4ms/sample - loss: 3.3910 - acc: 0.4043 - val_loss: 3.2417 - val_acc: 0.4095\n",
            "Epoch 5/10\n",
            "50000/50000 [==============================] - 201s 4ms/sample - loss: 2.8568 - acc: 0.4253 - val_loss: 2.7958 - val_acc: 0.4218\n",
            "Epoch 6/10\n",
            "50000/50000 [==============================] - 200s 4ms/sample - loss: 2.4788 - acc: 0.4375 - val_loss: 2.4659 - val_acc: 0.4281\n",
            "Epoch 7/10\n",
            "50000/50000 [==============================] - 199s 4ms/sample - loss: 2.2043 - acc: 0.4474 - val_loss: 2.2252 - val_acc: 0.4353\n",
            "Epoch 8/10\n",
            "50000/50000 [==============================] - 201s 4ms/sample - loss: 2.0034 - acc: 0.4578 - val_loss: 2.0466 - val_acc: 0.4414\n",
            "Epoch 9/10\n",
            "50000/50000 [==============================] - 199s 4ms/sample - loss: 1.8562 - acc: 0.4659 - val_loss: 1.9169 - val_acc: 0.4500\n",
            "Epoch 10/10\n",
            "50000/50000 [==============================] - 199s 4ms/sample - loss: 1.7460 - acc: 0.4739 - val_loss: 1.8197 - val_acc: 0.4601\n",
            "Model: \"sequential_11\"\n",
            "_________________________________________________________________\n",
            "Layer (type)                 Output Shape              Param #   \n",
            "=================================================================\n",
            "vgg16 (Model)                (None, 1, 1, 512)         14714688  \n",
            "_________________________________________________________________\n",
            "flatten_11 (Flatten)         (None, 512)               0         \n",
            "_________________________________________________________________\n",
            "dense_51 (Dense)             (None, 64)                32832     \n",
            "_________________________________________________________________\n",
            "dense_52 (Dense)             (None, 10)                650       \n",
            "=================================================================\n",
            "Total params: 14,748,170\n",
            "Trainable params: 33,482\n",
            "Non-trainable params: 14,714,688\n",
            "_________________________________________________________________\n"
          ],
          "name": "stdout"
        },
        {
          "output_type": "display_data",
          "data": {
            "image/png": "[encoded data removed]",
            "text/plain": [
              "<Figure size 432x288 with 1 Axes>"
            ]
          },
          "metadata": {
            "tags": []
          }
        }
      ]
    }
  ]
}